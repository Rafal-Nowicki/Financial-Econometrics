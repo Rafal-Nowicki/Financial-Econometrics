{
 "cells": [
  {
   "cell_type": "code",
   "execution_count": 1,
   "metadata": {},
   "outputs": [
    {
     "name": "stderr",
     "output_type": "stream",
     "text": [
      "Warning message:\n",
      "\"package 'eurostat' was built under R version 3.5.2\"\n",
      "Attaching package: 'zoo'\n",
      "\n",
      "The following objects are masked from 'package:base':\n",
      "\n",
      "    as.Date, as.Date.numeric\n",
      "\n"
     ]
    }
   ],
   "source": [
    "### Financial Econometrics II course SS 2018/2019 Prof. M. Rubaszek ###\n",
    "## Block 1 ##\n",
    "\n",
    "\n",
    "#########################################################################\n",
    "### Modeling inflation rate in Czech Republic with ARMA and VAR models###\n",
    "#########################################################################\n",
    "\n",
    "\n",
    "# Data downloading from EUROSTAT #\n",
    "\n",
    "library(\"eurostat\")\n",
    "data <- get_eurostat(\"prc_hicp_manr\",\n",
    "                     filters = list(geo=\"CZ\", \n",
    "                                    coicop = \"CP00\",\n",
    "                                    unit    =\"RCH_A\"))\n",
    "\n",
    "# Some data manipulation #\n",
    "library(\"zoo\")\n",
    "\n",
    "data <- zoo(data$values, order.by = data$time)\n",
    "\n",
    "library(xts)\n",
    "\n",
    "inflation <- as.xts(data)\n"
   ]
  },
  {
   "cell_type": "code",
   "execution_count": 2,
   "metadata": {},
   "outputs": [
    {
     "data": {},
     "metadata": {},
     "output_type": "display_data"
    },
    {
     "data": {
      "image/png": "[encoded data removed]",
      "text/plain": [
       "plot without title"
      ]
     },
     "metadata": {},
     "output_type": "display_data"
    }
   ],
   "source": [
    "plot(inflation)\n",
    "\n",
    "# There was a high inflation period in late 90's and around 2008 #\n",
    "# 2003 and 2010 we observed deflation #"
   ]
  },
  {
   "cell_type": "code",
   "execution_count": 3,
   "metadata": {},
   "outputs": [
    {
     "data": {},
     "metadata": {},
     "output_type": "display_data"
    },
    {
     "data": {
      "image/png": "[encoded data removed]",
      "text/plain": [
       "plot without title"
      ]
     },
     "metadata": {},
     "output_type": "display_data"
    }
   ],
   "source": [
    "# For modeling purposes let's remove high inflation period #\n",
    "inflation <- inflation[1:267,]\n",
    "inflation <- inflation[index(inflation) > '1999-07-01']\n",
    "plot(inflation)"
   ]
  },
  {
   "cell_type": "code",
   "execution_count": 4,
   "metadata": {},
   "outputs": [
    {
     "name": "stderr",
     "output_type": "stream",
     "text": [
      "Warning message:\n",
      "\"package 'urca' was built under R version 3.5.2\""
     ]
    },
    {
     "data": {
      "text/plain": [
       "\n",
       "############################################### \n",
       "# Augmented Dickey-Fuller Test Unit Root Test # \n",
       "############################################### \n",
       "\n",
       "Test regression none \n",
       "\n",
       "\n",
       "Call:\n",
       "lm(formula = z.diff ~ z.lag.1 - 1 + z.diff.lag)\n",
       "\n",
       "Residuals:\n",
       "     Min       1Q   Median       3Q      Max \n",
       "-1.67121 -0.19387  0.05501  0.30062  2.54243 \n",
       "\n",
       "Coefficients:\n",
       "           Estimate Std. Error t value Pr(>|t|)    \n",
       "z.lag.1    -0.01600    0.01084  -1.477 0.141023    \n",
       "z.diff.lag  0.21996    0.06417   3.428 0.000719 ***\n",
       "---\n",
       "Signif. codes:  0 '***' 0.001 '**' 0.01 '*' 0.05 '.' 0.1 ' ' 1\n",
       "\n",
       "Residual standard error: 0.4451 on 232 degrees of freedom\n",
       "Multiple R-squared:  0.05348,\tAdjusted R-squared:  0.04532 \n",
       "F-statistic: 6.555 on 2 and 232 DF,  p-value: 0.001702\n",
       "\n",
       "\n",
       "Value of test-statistic is: -1.477 \n",
       "\n",
       "Critical values for test statistics: \n",
       "      1pct  5pct 10pct\n",
       "tau1 -2.58 -1.95 -1.62\n"
      ]
     },
     "metadata": {},
     "output_type": "display_data"
    },
    {
     "data": {
      "text/plain": [
       "\n",
       "################################## \n",
       "# Phillips-Perron Unit Root Test # \n",
       "################################## \n",
       "\n",
       "Test regression with intercept \n",
       "\n",
       "\n",
       "Call:\n",
       "lm(formula = y ~ y.l1)\n",
       "\n",
       "Residuals:\n",
       "     Min       1Q   Median       3Q      Max \n",
       "-1.86229 -0.23886  0.01219  0.25203  2.61428 \n",
       "\n",
       "Coefficients:\n",
       "            Estimate Std. Error t value Pr(>|t|)    \n",
       "(Intercept)  0.08261    0.04683   1.764    0.079 .  \n",
       "y.l1         0.96354    0.01740  55.388   <2e-16 ***\n",
       "---\n",
       "Signif. codes:  0 '***' 0.001 '**' 0.01 '*' 0.05 '.' 0.1 ' ' 1\n",
       "\n",
       "Residual standard error: 0.4523 on 233 degrees of freedom\n",
       "Multiple R-squared:  0.9294,\tAdjusted R-squared:  0.9291 \n",
       "F-statistic:  3068 on 1 and 233 DF,  p-value: < 2.2e-16\n",
       "\n",
       "\n",
       "Value of test-statistic, type: Z-tau  is: -2.7479 \n",
       "\n",
       "         aux. Z statistics\n",
       "Z-tau-mu             2.238\n",
       "\n",
       "Critical values for Z statistics: \n",
       "                     1pct      5pct   10pct\n",
       "critical values -3.459557 -2.873902 -2.5733\n"
      ]
     },
     "metadata": {},
     "output_type": "display_data"
    },
    {
     "data": {
      "text/plain": [
       "\n",
       "####################### \n",
       "# KPSS Unit Root Test # \n",
       "####################### \n",
       "\n",
       "Test is of type: mu with 4 lags. \n",
       "\n",
       "Value of test-statistic is: 0.46 \n",
       "\n",
       "Critical value for a significance level of: \n",
       "                10pct  5pct 2.5pct  1pct\n",
       "critical values 0.347 0.463  0.574 0.739\n"
      ]
     },
     "metadata": {},
     "output_type": "display_data"
    }
   ],
   "source": [
    "# Let's test our time series for stationarity #\n",
    "\n",
    "library(urca)\n",
    "\n",
    "summary(ur.df(inflation, type = \"none\", selectlags = \"AIC\"))\n",
    "\n",
    "# ADF test -> no enough evidence to reject the null about nonstationarity -> inflation is I(1)\n",
    "\n",
    "summary(ur.pp(inflation, type = \"Z-tau\", model=\"constant\"))\n",
    "# We reject the null at 10 % significance but at 5% there is no enough evidence to do so\n",
    "\n",
    "summary(ur.kpss(inflation, type = \"mu\"))\n",
    "# At 10% signicficance there is no evidence to reject the null about stationarity -> inflation is I(0)\n",
    "\n",
    "# Let's assume for further analysis inflation is stationary #"
   ]
  },
  {
   "cell_type": "code",
   "execution_count": 5,
   "metadata": {},
   "outputs": [
    {
     "name": "stderr",
     "output_type": "stream",
     "text": [
      "Warning message:\n",
      "\"package 'forecast' was built under R version 3.5.2\""
     ]
    },
    {
     "data": {},
     "metadata": {},
     "output_type": "display_data"
    },
    {
     "data": {},
     "metadata": {},
     "output_type": "display_data"
    },
    {
     "data": {
      "image/png": "[encoded data removed]",
      "text/plain": [
       "plot without title"
      ]
     },
     "metadata": {},
     "output_type": "display_data"
    },
    {
     "data": {
      "image/png": "[encoded data removed]",
      "text/plain": [
       "plot without title"
      ]
     },
     "metadata": {},
     "output_type": "display_data"
    }
   ],
   "source": [
    "# We can now have a look at ACF and PACF function of inflation\n",
    "\n",
    "library(ggplot2)\n",
    "library(forecast)\n",
    "\n",
    "# Why does ACF look as it looks like?\n",
    "\n",
    "ggAcf(coredata(inflation))+\n",
    "  theme_bw()+\n",
    "  ggtitle(\"Autocorrelation function of inflation rate, CZ\")\n",
    "\n",
    "# Why is there a spike at 13th lag ( not at 12th as expected - base effect)?\n",
    "ggPacf(coredata(inflation))+\n",
    "  theme_bw()+\n",
    "  ggtitle(\"Partial autocorrelation function of inflation rate, CZ\")\n"
   ]
  },
  {
   "cell_type": "code",
   "execution_count": 6,
   "metadata": {},
   "outputs": [
    {
     "data": {
      "text/html": [
       "<table>\n",
       "<thead><tr><th></th><th scope=col>ma0</th><th scope=col>ma1</th><th scope=col>ma2</th><th scope=col>ma3</th></tr></thead>\n",
       "<tbody>\n",
       "\t<tr><th scope=row>ar0</th><td>919.4202</td><td>664.4996</td><td>548.0501</td><td>457.2771</td></tr>\n",
       "\t<tr><th scope=row>ar1</th><td>310.5567</td><td>306.6336</td><td>306.8009</td><td>301.9470</td></tr>\n",
       "\t<tr><th scope=row>ar2</th><td>303.6884</td><td>291.5878</td><td>297.0402</td><td>306.2578</td></tr>\n",
       "\t<tr><th scope=row>ar3</th><td>301.6698</td><td>297.7262</td><td>315.4862</td><td>312.3361</td></tr>\n",
       "</tbody>\n",
       "</table>\n"
      ],
      "text/latex": [
       "\\begin{tabular}{r|llll}\n",
       "  & ma0 & ma1 & ma2 & ma3\\\\\n",
       "\\hline\n",
       "\tar0 & 919.4202 & 664.4996 & 548.0501 & 457.2771\\\\\n",
       "\tar1 & 310.5567 & 306.6336 & 306.8009 & 301.9470\\\\\n",
       "\tar2 & 303.6884 & 291.5878 & 297.0402 & 306.2578\\\\\n",
       "\tar3 & 301.6698 & 297.7262 & 315.4862 & 312.3361\\\\\n",
       "\\end{tabular}\n"
      ],
      "text/markdown": [
       "\n",
       "| <!--/--> | ma0 | ma1 | ma2 | ma3 | \n",
       "|---|---|---|---|\n",
       "| ar0 | 919.4202 | 664.4996 | 548.0501 | 457.2771 | \n",
       "| ar1 | 310.5567 | 306.6336 | 306.8009 | 301.9470 | \n",
       "| ar2 | 303.6884 | 291.5878 | 297.0402 | 306.2578 | \n",
       "| ar3 | 301.6698 | 297.7262 | 315.4862 | 312.3361 | \n",
       "\n",
       "\n"
      ],
      "text/plain": [
       "    ma0      ma1      ma2      ma3     \n",
       "ar0 919.4202 664.4996 548.0501 457.2771\n",
       "ar1 310.5567 306.6336 306.8009 301.9470\n",
       "ar2 303.6884 291.5878 297.0402 306.2578\n",
       "ar3 301.6698 297.7262 315.4862 312.3361"
      ]
     },
     "metadata": {},
     "output_type": "display_data"
    },
    {
     "data": {
      "text/html": [
       "7"
      ],
      "text/latex": [
       "7"
      ],
      "text/markdown": [
       "7"
      ],
      "text/plain": [
       "[1] 7"
      ]
     },
     "metadata": {},
     "output_type": "display_data"
    },
    {
     "data": {
      "text/html": [
       "<table>\n",
       "<thead><tr><th></th><th scope=col>ma0</th><th scope=col>ma1</th><th scope=col>ma2</th><th scope=col>ma3</th></tr></thead>\n",
       "<tbody>\n",
       "\t<tr><th scope=row>ar0</th><td>912.4925</td><td>654.1081</td><td>534.1948</td><td>439.9580</td></tr>\n",
       "\t<tr><th scope=row>ar1</th><td>300.1780</td><td>292.7952</td><td>289.5029</td><td>281.1895</td></tr>\n",
       "\t<tr><th scope=row>ar2</th><td>289.8671</td><td>274.3112</td><td>276.3083</td><td>282.0705</td></tr>\n",
       "\t<tr><th scope=row>ar3</th><td>284.4146</td><td>277.0199</td><td>291.3289</td><td>284.7278</td></tr>\n",
       "</tbody>\n",
       "</table>\n"
      ],
      "text/latex": [
       "\\begin{tabular}{r|llll}\n",
       "  & ma0 & ma1 & ma2 & ma3\\\\\n",
       "\\hline\n",
       "\tar0 & 912.4925 & 654.1081 & 534.1948 & 439.9580\\\\\n",
       "\tar1 & 300.1780 & 292.7952 & 289.5029 & 281.1895\\\\\n",
       "\tar2 & 289.8671 & 274.3112 & 276.3083 & 282.0705\\\\\n",
       "\tar3 & 284.4146 & 277.0199 & 291.3289 & 284.7278\\\\\n",
       "\\end{tabular}\n"
      ],
      "text/markdown": [
       "\n",
       "| <!--/--> | ma0 | ma1 | ma2 | ma3 | \n",
       "|---|---|---|---|\n",
       "| ar0 | 912.4925 | 654.1081 | 534.1948 | 439.9580 | \n",
       "| ar1 | 300.1780 | 292.7952 | 289.5029 | 281.1895 | \n",
       "| ar2 | 289.8671 | 274.3112 | 276.3083 | 282.0705 | \n",
       "| ar3 | 284.4146 | 277.0199 | 291.3289 | 284.7278 | \n",
       "\n",
       "\n"
      ],
      "text/plain": [
       "    ma0      ma1      ma2      ma3     \n",
       "ar0 912.4925 654.1081 534.1948 439.9580\n",
       "ar1 300.1780 292.7952 289.5029 281.1895\n",
       "ar2 289.8671 274.3112 276.3083 282.0705\n",
       "ar3 284.4146 277.0199 291.3289 284.7278"
      ]
     },
     "metadata": {},
     "output_type": "display_data"
    },
    {
     "data": {
      "text/html": [
       "7"
      ],
      "text/latex": [
       "7"
      ],
      "text/markdown": [
       "7"
      ],
      "text/plain": [
       "[1] 7"
      ]
     },
     "metadata": {},
     "output_type": "display_data"
    },
    {
     "data": {
      "text/html": [
       "<table>\n",
       "<thead><tr><th></th><th scope=col>ma0</th><th scope=col>ma1</th><th scope=col>ma2</th><th scope=col>ma3</th></tr></thead>\n",
       "<tbody>\n",
       "\t<tr><th scope=row>ar0</th><td>912.3693</td><td>656.4914</td><td>538.4080</td><td>446.0211</td></tr>\n",
       "\t<tr><th scope=row>ar1</th><td>302.2991</td><td>296.6033</td><td>295.3358</td><td>288.6456</td></tr>\n",
       "\t<tr><th scope=row>ar2</th><td>295.0484</td><td>281.1588</td><td>284.5493</td><td>293.7690</td></tr>\n",
       "\t<tr><th scope=row>ar3</th><td>290.9840</td><td>284.6578</td><td>281.2218</td><td>284.3803</td></tr>\n",
       "</tbody>\n",
       "</table>\n"
      ],
      "text/latex": [
       "\\begin{tabular}{r|llll}\n",
       "  & ma0 & ma1 & ma2 & ma3\\\\\n",
       "\\hline\n",
       "\tar0 & 912.3693 & 656.4914 & 538.4080 & 446.0211\\\\\n",
       "\tar1 & 302.2991 & 296.6033 & 295.3358 & 288.6456\\\\\n",
       "\tar2 & 295.0484 & 281.1588 & 284.5493 & 293.7690\\\\\n",
       "\tar3 & 290.9840 & 284.6578 & 281.2218 & 284.3803\\\\\n",
       "\\end{tabular}\n"
      ],
      "text/markdown": [
       "\n",
       "| <!--/--> | ma0 | ma1 | ma2 | ma3 | \n",
       "|---|---|---|---|\n",
       "| ar0 | 912.3693 | 656.4914 | 538.4080 | 446.0211 | \n",
       "| ar1 | 302.2991 | 296.6033 | 295.3358 | 288.6456 | \n",
       "| ar2 | 295.0484 | 281.1588 | 284.5493 | 293.7690 | \n",
       "| ar3 | 290.9840 | 284.6578 | 281.2218 | 284.3803 | \n",
       "\n",
       "\n"
      ],
      "text/plain": [
       "    ma0      ma1      ma2      ma3     \n",
       "ar0 912.3693 656.4914 538.4080 446.0211\n",
       "ar1 302.2991 296.6033 295.3358 288.6456\n",
       "ar2 295.0484 281.1588 284.5493 293.7690\n",
       "ar3 290.9840 284.6578 281.2218 284.3803"
      ]
     },
     "metadata": {},
     "output_type": "display_data"
    },
    {
     "data": {
      "text/html": [
       "7"
      ],
      "text/latex": [
       "7"
      ],
      "text/markdown": [
       "7"
      ],
      "text/plain": [
       "[1] 7"
      ]
     },
     "metadata": {},
     "output_type": "display_data"
    }
   ],
   "source": [
    "# Let's go with ARMA models #\n",
    "\n",
    "#Lag selection function (based on information criteria)\n",
    "\n",
    "LagSel <- function(x, Pmax=3, Qmax=3, d=0, crit=\"BIC\"){\n",
    "  IC <- matrix(NA, Pmax+1, Qmax+1)\n",
    "  for(p in 0:Pmax){\n",
    "    if(p==Pmax){x0=x} else {x0 = x[-(1:(Pmax-p))]} \n",
    "    for(q in 0:Qmax){\n",
    "      if(crit == \"AIC\"){ IC[p+1,q+1] <- AIC(Arima(x0,order=c(p,d,q)), k=2) }\n",
    "      if(crit == \"BIC\"){ IC[p+1,q+1] <- AIC(Arima(x0,order=c(p,d,q)), k=log(length(x)-p)) }\n",
    "      if(crit == \"HQ\"){  IC[p+1,q+1] <- AIC(Arima(x[- (1:(Pmax-p+1))],order=c(p,d,q)), k=2*log(log(length(x)-p))) }\n",
    "    }}\n",
    "  rownames(IC) <- paste('ar',0:Pmax, sep=\"\"); colnames(IC) <- paste('ma',0:Qmax, sep=\"\")\n",
    "  return(IC)\n",
    "}\n",
    "\n",
    "LagSel(as.ts(coredata(inflation)), crit=\"BIC\")\n",
    "which.min(LagSel(as.ts(coredata(inflation)), crit=\"BIC\")) #ARMA (2,1)\n",
    "\n",
    "LagSel(as.ts(coredata(inflation)), crit=\"AIC\")\n",
    "which.min(LagSel(as.ts(coredata(inflation)), crit=\"AIC\")) #ARMA (2,1)\n",
    "\n",
    "LagSel(as.ts(coredata(inflation)), crit=\"HQ\")\n",
    "which.min(LagSel(as.ts(coredata(inflation)), crit=\"HQ\")) #ARMA (2,1)\n",
    "\n",
    "# Every criterion indicates ARMA(2,1) model"
   ]
  },
  {
   "cell_type": "code",
   "execution_count": 7,
   "metadata": {},
   "outputs": [
    {
     "name": "stdout",
     "output_type": "stream",
     "text": [
      "Series: as.ts(coredata(inflation)) \n",
      "ARIMA(2,0,1) with non-zero mean \n",
      "\n",
      "Coefficients:\n",
      "        ar1     ar2     ma1   mean\n",
      "      1.888  -0.907  -0.804  2.060\n",
      "s.e.  0.048   0.045   0.077  0.289\n",
      "\n",
      "sigma^2 estimated as 0.181:  log likelihood=-133\n",
      "AIC=275   AICc=275   BIC=292\n",
      "\n",
      "Training set error measures:\n",
      "                  ME  RMSE   MAE MPE MAPE  MASE    ACF1\n",
      "Training set 0.00487 0.422 0.308 NaN  Inf 0.959 0.00855\n"
     ]
    }
   ],
   "source": [
    "# Now we can estimate ARMA (2,1) model\n",
    "\n",
    "options(digits=3)\n",
    "arma0 <- arima(as.ts(coredata(inflation)), order = c(2,0,1))  \n",
    "\n",
    "summary(Arima(as.ts(coredata(inflation)), order = c(2,0,1)))"
   ]
  },
  {
   "cell_type": "code",
   "execution_count": 8,
   "metadata": {
    "scrolled": true
   },
   "outputs": [
    {
     "data": {
      "text/html": [
       "<table>\n",
       "<thead><tr><th></th><th scope=col>ar1</th><th scope=col>ar2</th><th scope=col>ma1</th><th scope=col>cons.</th></tr></thead>\n",
       "<tbody>\n",
       "\t<tr><th scope=row>CSS-ML</th><td>1.8885</td><td>-0.907</td><td>-0.804</td><td>2.06  </td></tr>\n",
       "\t<tr><th scope=row>CSS</th><td>1.8738</td><td>-0.894</td><td>-0.768</td><td>2.11  </td></tr>\n",
       "\t<tr><th scope=row>ML</th><td>0.0586</td><td> 0.864</td><td> 1.000</td><td>2.05  </td></tr>\n",
       "</tbody>\n",
       "</table>\n"
      ],
      "text/latex": [
       "\\begin{tabular}{r|llll}\n",
       "  & ar1 & ar2 & ma1 & cons.\\\\\n",
       "\\hline\n",
       "\tCSS-ML & 1.8885 & -0.907 & -0.804 & 2.06  \\\\\n",
       "\tCSS & 1.8738 & -0.894 & -0.768 & 2.11  \\\\\n",
       "\tML & 0.0586 &  0.864 &  1.000 & 2.05  \\\\\n",
       "\\end{tabular}\n"
      ],
      "text/markdown": [
       "\n",
       "| <!--/--> | ar1 | ar2 | ma1 | cons. | \n",
       "|---|---|---|\n",
       "| CSS-ML | 1.8885 | -0.907 | -0.804 | 2.06   | \n",
       "| CSS | 1.8738 | -0.894 | -0.768 | 2.11   | \n",
       "| ML | 0.0586 |  0.864 |  1.000 | 2.05   | \n",
       "\n",
       "\n"
      ],
      "text/plain": [
       "       ar1    ar2    ma1    cons.\n",
       "CSS-ML 1.8885 -0.907 -0.804 2.06 \n",
       "CSS    1.8738 -0.894 -0.768 2.11 \n",
       "ML     0.0586  0.864  1.000 2.05 "
      ]
     },
     "metadata": {},
     "output_type": "display_data"
    }
   ],
   "source": [
    "## 3 different estimation methods ##\n",
    "\n",
    "\n",
    "# Conditional sum of squares\n",
    "arma.CSS    <- Arima(as.ts(coredata(inflation)), order = c(2, 0, 1), method = \"CSS\")\n",
    "\n",
    "# Maximum likelihood \n",
    "arma.ML     <- Arima(as.ts(coredata(inflation)), order = c(2, 0, 1), method = \"ML\")\n",
    "\n",
    "# Mixture of two methods desribed above\n",
    "arma.CSS_ML <- Arima(as.ts(coredata(inflation)), order = c(2, 0, 1), method=\"CSS-ML\")\n",
    "\n",
    "ARMA.coef <- matrix(NA,3,4)\n",
    "ARMA.coef[1,] <- arma.CSS_ML[[\"coef\"]]\n",
    "ARMA.coef[2,] <- arma.CSS[[\"coef\"]]\n",
    "ARMA.coef[3,] <- arma.ML[[\"coef\"]]\n",
    "rownames(ARMA.coef) <- c(\"CSS-ML\",\"CSS\",\"ML\")\n",
    "colnames(ARMA.coef) <- c(\"ar1\", \"ar2\",\"ma1\", \"cons.\")\n",
    "ARMA.coef\n",
    "\n",
    "# As we can see ML estimates differ from estimates obtained from CSS and CSS-ML\n",
    "# We definitely don't want our MA coefficient to be 1 so we choose specification from CSS-ML"
   ]
  },
  {
   "cell_type": "code",
   "execution_count": 9,
   "metadata": {},
   "outputs": [
    {
     "data": {
      "image/png": "[encoded data removed]",
      "text/plain": [
       "Plot with title \"Inverse AR roots\""
      ]
     },
     "metadata": {},
     "output_type": "display_data"
    },
    {
     "data": {
      "image/png": "[encoded data removed]",
      "text/plain": [
       "Plot with title \"Inverse MA roots\""
      ]
     },
     "metadata": {},
     "output_type": "display_data"
    }
   ],
   "source": [
    "## Vizualisation of inverse AR and MA roots ##\n",
    "\n",
    "## Function from R. Hyndman ##\n",
    "## https://robjhyndman.com/hyndsight/arma-roots/ ##\n",
    "\n",
    "\n",
    "# Compute AR roots\n",
    "arroots <- function(object)\n",
    "{\n",
    "  if(!(\"Arima\" %in% class(object)) & \n",
    "     !(\"ar\" %in% class(object)))\n",
    "    stop(\"object must be of class Arima or ar\")\n",
    "  if(\"Arima\" %in% class(object))\n",
    "    parvec <- object$model$phi\n",
    "  else\n",
    "    parvec <- object$ar\n",
    "  if(length(parvec) > 0)\n",
    "  {\n",
    "    last.nonzero <- max(which(abs(parvec) > 1e-08))\n",
    "    if (last.nonzero > 0)\n",
    "      return(structure(list(\n",
    "        roots=polyroot(c(1,-parvec[1:last.nonzero])),\n",
    "        type=\"AR\"), \n",
    "        class='armaroots'))\n",
    "  }\n",
    "  return(structure(list(roots=numeric(0), type=\"AR\"),\n",
    "                   class='armaroots'))\n",
    "}\n",
    "\n",
    "# Compute MA roots\n",
    "maroots <- function(object)\n",
    "{\n",
    "  if(!(\"Arima\" %in% class(object)))\n",
    "    stop(\"object must be of class Arima\")\n",
    "  parvec <- object$model$theta\n",
    "  if(length(parvec) > 0)\n",
    "  {\n",
    "    last.nonzero <- max(which(abs(parvec) > 1e-08))\n",
    "    if (last.nonzero > 0)\n",
    "      return(structure(list(\n",
    "        roots=polyroot(c(1,parvec[1:last.nonzero])),\n",
    "        type=\"MA\"), \n",
    "        class='armaroots'))\n",
    "  }\n",
    "  return(structure(list(roots=numeric(0), type=\"MA\"),\n",
    "                   class='armaroots'))\n",
    "}\n",
    "\n",
    "plot.armaroots <- function(x, xlab=\"Real\", ylab=\"Imaginary\",\n",
    "                           main=paste(\"Inverse roots of\", x$type,\n",
    "                                      \"characteristic polynomial\"),\n",
    "                           ...)\n",
    "{\n",
    "  oldpar <- par(pty='s')\n",
    "  on.exit(par(oldpar))\n",
    "  plot(c(-1,1), c(-1,1), xlab=xlab, ylab=ylab,\n",
    "       type=\"n\", bty=\"n\", xaxt=\"n\", yaxt=\"n\", main=main, ...)\n",
    "  axis(1, at=c(-1,0,1), line=0.5, tck=-0.025)\n",
    "  axis(2, at=c(-1,0,1), label=c(\"-i\",\"0\",\"i\"), \n",
    "       line=0.5, tck=-0.025)\n",
    "  circx <- seq(-1,1,l=501)\n",
    "  circy <- sqrt(1-circx^2)\n",
    "  lines(c(circx,circx), c(circy,-circy), col='gray')\n",
    "  lines(c(-2,2), c(0,0), col='gray') \n",
    "  lines(c(0,0), c(-2,2), col='gray')\n",
    "  if(length(x$roots) > 0) \n",
    "  {\n",
    "    inside <- abs(x$roots) > 1\n",
    "    points(1/x$roots[inside], pch=19, col='black')\n",
    "    if(sum(!inside) > 0)\n",
    "      points(1/x$roots[!inside], pch=19, col='red')\n",
    "  }\n",
    "}\n",
    "\n",
    "\n",
    "\n",
    "\n",
    "plot(arroots(arma0),main=\"Inverse AR roots\") # both AR roots are inside of unit circle\n",
    "plot(maroots(arma0),main=\"Inverse MA roots\") # Is it necessary for MA roots to lie inside of unit circle?"
   ]
  },
  {
   "cell_type": "code",
   "execution_count": 10,
   "metadata": {},
   "outputs": [
    {
     "name": "stderr",
     "output_type": "stream",
     "text": [
      "Warning message:\n",
      "\"package 'tseries' was built under R version 3.5.2\""
     ]
    },
    {
     "data": {
      "text/plain": [
       "\n",
       "\tJarque Bera Test\n",
       "\n",
       "data:  arma0$residuals\n",
       "X-squared = 200, df = 2, p-value <2e-16\n"
      ]
     },
     "metadata": {},
     "output_type": "display_data"
    }
   ],
   "source": [
    "library(tseries)\n",
    "jarque.bera.test(arma0$residuals)\n",
    "\n",
    "# We reject the null about normality of the error term at every reasonable significance level #"
   ]
  },
  {
   "cell_type": "code",
   "execution_count": 11,
   "metadata": {},
   "outputs": [
    {
     "data": {},
     "metadata": {},
     "output_type": "display_data"
    },
    {
     "data": {
      "image/png": "[encoded data removed]",
      "text/plain": [
       "plot without title"
      ]
     },
     "metadata": {},
     "output_type": "display_data"
    }
   ],
   "source": [
    "#Impulse reaction function\n",
    "\n",
    "ma.coef <- arma0[[\"coef\"]][3]\n",
    "ar.coef <- arma0[[\"coef\"]][c(1,2)]\n",
    "\n",
    "IRF <- ARMAtoMA(ar = ar.coef,ma = ma.coef,24); IRF = c(1,IRF)\n",
    "IRF<-as.ts(IRF)\n",
    "\n",
    "autoplot(IRF)+\n",
    "  theme_bw()"
   ]
  },
  {
   "cell_type": "code",
   "execution_count": 12,
   "metadata": {},
   "outputs": [
    {
     "name": "stderr",
     "output_type": "stream",
     "text": [
      "Warning message:\n",
      "\"package 'vars' was built under R version 3.5.3\"Loading required package: MASS\n",
      "Loading required package: strucchange\n",
      "Warning message:\n",
      "\"package 'strucchange' was built under R version 3.5.3\"Loading required package: sandwich\n",
      "Loading required package: lmtest\n"
     ]
    }
   ],
   "source": [
    "## VAR model ##\n",
    "# Inflation in Czech Republic vs inflation in Euro Area\n",
    "\n",
    "library(vars)\n",
    "\n",
    "#Downloading the data from EUROSTAT\n",
    "\n",
    "inf <- get_eurostat(\"prc_hicp_manr\",\n",
    "                     filters = list(geo=c(\"EA\",\"CZ\"),coicop=\"CP00\",unit=\"RCH_A\"))\n",
    "\n",
    "infF <- subset(inf, geo == \"EA\")\n",
    "infH <- subset(inf, geo == \"CZ\")\n",
    "\n",
    "pF  <- na.omit(zoo(infF$values,order.by=infF$time))  # F stands for foreign\n",
    "pF <- pF[index(pF) > '1999-07-01']\n",
    "\n",
    "pH  <- na.omit(zoo(infH$values,order.by=infH$time)) # H for Home\n",
    "pH <-  pH[index(pH) > '1999-07-01']\n",
    "\n",
    "z <- merge(pF,pH,all=FALSE)"
   ]
  },
  {
   "cell_type": "code",
   "execution_count": 13,
   "metadata": {},
   "outputs": [
    {
     "data": {
      "text/html": [
       "<dl>\n",
       "\t<dt>$selection</dt>\n",
       "\t\t<dd><dl class=dl-horizontal>\n",
       "\t<dt>AIC(n)</dt>\n",
       "\t\t<dd>4</dd>\n",
       "\t<dt>HQ(n)</dt>\n",
       "\t\t<dd>2</dd>\n",
       "\t<dt>SC(n)</dt>\n",
       "\t\t<dd>2</dd>\n",
       "\t<dt>FPE(n)</dt>\n",
       "\t\t<dd>4</dd>\n",
       "</dl>\n",
       "</dd>\n",
       "\t<dt>$criteria</dt>\n",
       "\t\t<dd><table>\n",
       "<thead><tr><th></th><th scope=col>1</th><th scope=col>2</th><th scope=col>3</th><th scope=col>4</th><th scope=col>5</th><th scope=col>6</th></tr></thead>\n",
       "<tbody>\n",
       "\t<tr><th scope=row>AIC(n)</th><td>-4.4554</td><td>-4.5557</td><td>-4.5716</td><td>-4.5815</td><td>-4.5651</td><td>-4.5629</td></tr>\n",
       "\t<tr><th scope=row>HQ(n)</th><td>-4.4193</td><td>-4.4954</td><td>-4.4872</td><td>-4.4730</td><td>-4.4325</td><td>-4.4061</td></tr>\n",
       "\t<tr><th scope=row>SC(n)</th><td>-4.3657</td><td>-4.4063</td><td>-4.3624</td><td>-4.3124</td><td>-4.2363</td><td>-4.1742</td></tr>\n",
       "\t<tr><th scope=row>FPE(n)</th><td> 0.0116</td><td> 0.0105</td><td> 0.0103</td><td> 0.0102</td><td> 0.0104</td><td> 0.0104</td></tr>\n",
       "</tbody>\n",
       "</table>\n",
       "</dd>\n",
       "</dl>\n"
      ],
      "text/latex": [
       "\\begin{description}\n",
       "\\item[\\$selection] \\begin{description*}\n",
       "\\item[AIC(n)] 4\n",
       "\\item[HQ(n)] 2\n",
       "\\item[SC(n)] 2\n",
       "\\item[FPE(n)] 4\n",
       "\\end{description*}\n",
       "\n",
       "\\item[\\$criteria] \\begin{tabular}{r|llllll}\n",
       "  & 1 & 2 & 3 & 4 & 5 & 6\\\\\n",
       "\\hline\n",
       "\tAIC(n) & -4.4554 & -4.5557 & -4.5716 & -4.5815 & -4.5651 & -4.5629\\\\\n",
       "\tHQ(n) & -4.4193 & -4.4954 & -4.4872 & -4.4730 & -4.4325 & -4.4061\\\\\n",
       "\tSC(n) & -4.3657 & -4.4063 & -4.3624 & -4.3124 & -4.2363 & -4.1742\\\\\n",
       "\tFPE(n) &  0.0116 &  0.0105 &  0.0103 &  0.0102 &  0.0104 &  0.0104\\\\\n",
       "\\end{tabular}\n",
       "\n",
       "\\end{description}\n"
      ],
      "text/markdown": [
       "$selection\n",
       ":   AIC(n)\n",
       ":   4HQ(n)\n",
       ":   2SC(n)\n",
       ":   2FPE(n)\n",
       ":   4\n",
       "\n",
       "\n",
       "$criteria\n",
       ":   \n",
       "| <!--/--> | 1 | 2 | 3 | 4 | 5 | 6 | \n",
       "|---|---|---|---|\n",
       "| AIC(n) | -4.4554 | -4.5557 | -4.5716 | -4.5815 | -4.5651 | -4.5629 | \n",
       "| HQ(n) | -4.4193 | -4.4954 | -4.4872 | -4.4730 | -4.4325 | -4.4061 | \n",
       "| SC(n) | -4.3657 | -4.4063 | -4.3624 | -4.3124 | -4.2363 | -4.1742 | \n",
       "| FPE(n) |  0.0116 |  0.0105 |  0.0103 |  0.0102 |  0.0104 |  0.0104 | \n",
       "\n",
       "\n",
       "\n",
       "\n",
       "\n"
      ],
      "text/plain": [
       "$selection\n",
       "AIC(n)  HQ(n)  SC(n) FPE(n) \n",
       "     4      2      2      4 \n",
       "\n",
       "$criteria\n",
       "             1       2       3       4       5       6\n",
       "AIC(n) -4.4554 -4.5557 -4.5716 -4.5815 -4.5651 -4.5629\n",
       "HQ(n)  -4.4193 -4.4954 -4.4872 -4.4730 -4.4325 -4.4061\n",
       "SC(n)  -4.3657 -4.4063 -4.3624 -4.3124 -4.2363 -4.1742\n",
       "FPE(n)  0.0116  0.0105  0.0103  0.0102  0.0104  0.0104\n"
      ]
     },
     "metadata": {},
     "output_type": "display_data"
    }
   ],
   "source": [
    "# Lag selection #\n",
    "\n",
    "VARselect(z, lag.max=6, type=\"const\") # 4 or 2 \n",
    "# 3 or 2 -> we prefer smaller models so 2 will be our choice"
   ]
  },
  {
   "cell_type": "code",
   "execution_count": 14,
   "metadata": {},
   "outputs": [
    {
     "data": {
      "text/plain": [
       "\n",
       "VAR Estimation Results:\n",
       "========================= \n",
       "Endogenous variables: pF, pH \n",
       "Deterministic variables: const \n",
       "Sample size: 234 \n",
       "Log Likelihood: -120.167 \n",
       "Roots of the characteristic polynomial:\n",
       "0.941 0.936 0.332 0.0943\n",
       "Call:\n",
       "VAR(y = z, p = 2, type = \"const\")\n",
       "\n",
       "\n",
       "Estimation results for equation pF: \n",
       "=================================== \n",
       "pF = pF.l1 + pH.l1 + pF.l2 + pH.l2 + const \n",
       "\n",
       "      Estimate Std. Error t value Pr(>|t|)    \n",
       "pF.l1   1.0525     0.0706   14.90   <2e-16 ***\n",
       "pH.l1   0.0814     0.0402    2.02    0.044 *  \n",
       "pF.l2  -0.1037     0.0710   -1.46    0.146    \n",
       "pH.l2  -0.0779     0.0400   -1.95    0.052 .  \n",
       "const   0.0824     0.0357    2.30    0.022 *  \n",
       "---\n",
       "Signif. codes:  0 '***' 0.001 '**' 0.01 '*' 0.05 '.' 0.1 ' ' 1\n",
       "\n",
       "\n",
       "Residual standard error: 0.253 on 229 degrees of freedom\n",
       "Multiple R-Squared: 0.927,\tAdjusted R-squared: 0.925 \n",
       "F-statistic:  724 on 4 and 229 DF,  p-value: <2e-16 \n",
       "\n",
       "\n",
       "Estimation results for equation pH: \n",
       "=================================== \n",
       "pH = pF.l1 + pH.l1 + pF.l2 + pH.l2 + const \n",
       "\n",
       "      Estimate Std. Error t value Pr(>|t|)    \n",
       "pF.l1   0.5500     0.1184    4.65  5.7e-06 ***\n",
       "pH.l1   1.0624     0.0674   15.76  < 2e-16 ***\n",
       "pF.l2  -0.5127     0.1191   -4.31  2.5e-05 ***\n",
       "pH.l2  -0.1190     0.0670   -1.78    0.077 .  \n",
       "const   0.0587     0.0599    0.98    0.328    \n",
       "---\n",
       "Signif. codes:  0 '***' 0.001 '**' 0.01 '*' 0.05 '.' 0.1 ' ' 1\n",
       "\n",
       "\n",
       "Residual standard error: 0.424 on 229 degrees of freedom\n",
       "Multiple R-Squared: 0.939,\tAdjusted R-squared: 0.938 \n",
       "F-statistic:  880 on 4 and 229 DF,  p-value: <2e-16 \n",
       "\n",
       "\n",
       "\n",
       "Covariance matrix of residuals:\n",
       "       pF     pH\n",
       "pF 0.0640 0.0389\n",
       "pH 0.0389 0.1798\n",
       "\n",
       "Correlation matrix of residuals:\n",
       "      pF    pH\n",
       "pF 1.000 0.362\n",
       "pH 0.362 1.000\n",
       "\n"
      ]
     },
     "metadata": {},
     "output_type": "display_data"
    }
   ],
   "source": [
    "VARE <- VAR(z, p=2, type=\"const\")\n",
    "summary(VARE)"
   ]
  },
  {
   "cell_type": "code",
   "execution_count": 15,
   "metadata": {},
   "outputs": [
    {
     "data": {
      "text/plain": [
       "\n",
       "\tPortmanteau Test (adjusted)\n",
       "\n",
       "data:  Residuals of VAR object VARE\n",
       "Chi-squared = 20, df = 4, p-value = 8e-04\n",
       "\n",
       "$serial\n",
       "\n",
       "\tPortmanteau Test (adjusted)\n",
       "\n",
       "data:  Residuals of VAR object VARE\n",
       "Chi-squared = 20, df = 4, p-value = 8e-04\n",
       "\n"
      ]
     },
     "metadata": {},
     "output_type": "display_data"
    }
   ],
   "source": [
    "serial.test(VARE, lags.pt = 3, type=\"PT.adjusted\") ## We reject the null about lack of serial correlation within model's residuals\n"
   ]
  },
  {
   "cell_type": "code",
   "execution_count": 16,
   "metadata": {},
   "outputs": [
    {
     "data": {
      "image/png": "[encoded data removed]",
      "text/plain": [
       "Plot with title \"residuals(VARE)[, 2] & residuals(VARE)[, 1]\""
      ]
     },
     "metadata": {},
     "output_type": "display_data"
    }
   ],
   "source": [
    "par(mfrow=c(2,2), cex = 0.5, bty=\"l\")\n",
    "Acf(residuals(VARE)[,1])\n",
    "Ccf(residuals(VARE)[,1],residuals(VARE)[,2])\n",
    "\n",
    "Acf(residuals(VARE)[,2])\n",
    "Ccf(residuals(VARE)[,2],residuals(VARE)[,1]) # co 12 wypada istotne opoznienie  EFEKT BAZY -> dlatego lepiej modelowac infl m/m\n"
   ]
  },
  {
   "cell_type": "code",
   "execution_count": 17,
   "metadata": {},
   "outputs": [
    {
     "data": {},
     "metadata": {},
     "output_type": "display_data"
    },
    {
     "data": {},
     "metadata": {},
     "output_type": "display_data"
    },
    {
     "data": {
      "image/png": "[encoded data removed]",
      "text/plain": [
       "plot without title"
      ]
     },
     "metadata": {},
     "output_type": "display_data"
    },
    {
     "data": {
      "image/png": "[encoded data removed]",
      "text/plain": [
       "plot without title"
      ]
     },
     "metadata": {},
     "output_type": "display_data"
    }
   ],
   "source": [
    "temp<-Phi(VARE,100) # In ordrer to present IRF function we have to find MA representation using Phi function\n",
    "\n",
    "\n",
    "autoplot(as.ts(temp[2,2,]))+ # How innovation in Czech Republic affect inflation rate in CZ\n",
    "  xlab(\"\")+ylab(\"IRF\")+theme_bw()+ggtitle(\"Impact of innovation in CZ on inflation in CZ\")\n",
    "\n",
    "autoplot(as.ts(temp[1,1,]))+  # How innovation in Euro Area affects inflation rate in EA\n",
    "  xlab(\"\")+ylab(\"IRF\")+theme_bw()+ggtitle(\"Impact of innovation in EA on inflation in EA\")\n"
   ]
  },
  {
   "cell_type": "code",
   "execution_count": 18,
   "metadata": {},
   "outputs": [
    {
     "data": {
      "text/plain": [
       "$Granger\n",
       "\n",
       "\tGranger causality H0: pF do not Granger-cause pH\n",
       "\n",
       "data:  VAR object VARE\n",
       "F-Test = 10, df1 = 2, df2 = 500, p-value = 3e-05\n",
       "\n",
       "\n",
       "$Instant\n",
       "\n",
       "\tH0: No instantaneous causality between: pF and pH\n",
       "\n",
       "data:  VAR object VARE\n",
       "Chi-squared = 30, df = 1, p-value = 2e-07\n",
       "\n"
      ]
     },
     "metadata": {},
     "output_type": "display_data"
    },
    {
     "data": {
      "text/plain": [
       "$Granger\n",
       "\n",
       "\tGranger causality H0: pH do not Granger-cause pF\n",
       "\n",
       "data:  VAR object VARE\n",
       "F-Test = 2, df1 = 2, df2 = 500, p-value = 0.1\n",
       "\n",
       "\n",
       "$Instant\n",
       "\n",
       "\tH0: No instantaneous causality between: pH and pF\n",
       "\n",
       "data:  VAR object VARE\n",
       "Chi-squared = 30, df = 1, p-value = 2e-07\n",
       "\n"
      ]
     },
     "metadata": {},
     "output_type": "display_data"
    }
   ],
   "source": [
    "causality(VARE, cause=\"pF\") #inlation in Euro Zone is Granger-cause for inflation in Czech Republic\n",
    "causality(VARE, cause=\"pH\") #inflation in Czech Republic isn't Granger-cause for inflation in Euro Zone\n",
    "\n",
    "# So we can think about restrictions in order to estimate SVAR model\n",
    "# This restriction is as following:\n",
    "# In short-run there is no impact of innovation in Czech Republic on inflation in Euro Zone"
   ]
  },
  {
   "cell_type": "code",
   "execution_count": 19,
   "metadata": {},
   "outputs": [
    {
     "name": "stderr",
     "output_type": "stream",
     "text": [
      "Warning message in SVAR(VARE, Amat = NULL, Bmat = bmat):\n",
      "\"The B-model is just identified. No test possible.\""
     ]
    },
    {
     "data": {
      "text/plain": [
       "\n",
       "SVAR Estimation Results:\n",
       "======================== \n",
       "\n",
       "\n",
       "Estimated B matrix:\n",
       "      pF    pH\n",
       "pF 0.253 0.000\n",
       "pH 0.154 0.395"
      ]
     },
     "metadata": {},
     "output_type": "display_data"
    }
   ],
   "source": [
    "## Structural VAR model (SVAR)\n",
    "\n",
    "bmat <- matrix(0,2,2)\n",
    "bmat[lower.tri(bmat, diag=T)] <- NA\n",
    "SVARE <- SVAR(VARE, Amat = NULL, Bmat = bmat)\n",
    "SVARE\n",
    "B <- SVARE$B "
   ]
  },
  {
   "cell_type": "code",
   "execution_count": 20,
   "metadata": {},
   "outputs": [
    {
     "data": {
      "text/html": [
       "<table>\n",
       "<tbody>\n",
       "\t<tr><td>0.253</td><td>0.000</td></tr>\n",
       "\t<tr><td>0.154</td><td>0.395</td></tr>\n",
       "</tbody>\n",
       "</table>\n"
      ],
      "text/latex": [
       "\\begin{tabular}{ll}\n",
       "\t 0.253 & 0.000\\\\\n",
       "\t 0.154 & 0.395\\\\\n",
       "\\end{tabular}\n"
      ],
      "text/markdown": [
       "\n",
       "| 0.253 | 0.000 | \n",
       "| 0.154 | 0.395 | \n",
       "\n",
       "\n"
      ],
      "text/plain": [
       "     [,1]  [,2] \n",
       "[1,] 0.253 0.000\n",
       "[2,] 0.154 0.395"
      ]
     },
     "metadata": {},
     "output_type": "display_data"
    }
   ],
   "source": [
    "# structural IRF #\n",
    "\n",
    "K    <- 48\n",
    "SVMA <- Phi(SVARE, nstep=K)\n",
    "\n",
    "# short run-impact matrix\n",
    "SVMA[,,1]"
   ]
  },
  {
   "cell_type": "code",
   "execution_count": 21,
   "metadata": {},
   "outputs": [
    {
     "data": {
      "image/png": "[encoded data removed]",
      "text/plain": [
       "Plot with title \"uCZ -> infCZ\""
      ]
     },
     "metadata": {},
     "output_type": "display_data"
    }
   ],
   "source": [
    "par(mfrow=c(2,2), cex = 0.5, bty=\"l\")\n",
    "plot.ts(SVMA[1,1,], main=\"uEA -> infEA\"); abline(h=0, col = \"red\")\n",
    "plot.ts(SVMA[1,2,], main=\"uCZ -> infEA\"); abline(h=0, col = \"red\")\n",
    "plot.ts(SVMA[2,1,], main=\"uEA -> infCZ\"); abline(h=0, col = \"red\")\n",
    "plot.ts(SVMA[2,2,], main=\"uCZ -> infCZ\"); abline(h=0, col = \"red\")"
   ]
  },
  {
   "cell_type": "code",
   "execution_count": 22,
   "metadata": {},
   "outputs": [
    {
     "data": {
      "image/png": "[encoded data removed]",
      "text/plain": [
       "plot without title"
      ]
     },
     "metadata": {},
     "output_type": "display_data"
    },
    {
     "data": {
      "image/png": "[encoded data removed]",
      "text/plain": [
       "plot without title"
      ]
     },
     "metadata": {},
     "output_type": "display_data"
    }
   ],
   "source": [
    "options(warn=-1)\n",
    "\n",
    "SIRF <- irf(SVARE, n.ahead=K, cum = T, boot = T)\n",
    "plot(SIRF)"
   ]
  },
  {
   "cell_type": "code",
   "execution_count": 23,
   "metadata": {},
   "outputs": [
    {
     "data": {
      "image/png": "[encoded data removed]",
      "text/plain": [
       "Plot with title \"FEVD for pH\""
      ]
     },
     "metadata": {},
     "output_type": "display_data"
    }
   ],
   "source": [
    "# Variance decomposition of forecast errors\n",
    "\n",
    "plot(fevd(SVARE, n.ahead = 60), col = c(\"red\", \"green\"))\n",
    "\n",
    "#Almost whole variance of forecast errors of inflation in Euro Zone may be explained with shocks in Eurozone\n",
    "\n",
    "# For inflation in Czech Republic it looks completely different:\n",
    "# At the beginning about 85% of variance may be explauined wiht shocks in CZ\n",
    "# In the furhter horizon about 30% of FV accounts for shocks in Euro zone"
   ]
  },
  {
   "cell_type": "code",
   "execution_count": 24,
   "metadata": {},
   "outputs": [
    {
     "data": {
      "text/html": [
       "<table>\n",
       "<thead><tr><th></th><th scope=col>pF</th><th scope=col>pH</th></tr></thead>\n",
       "<tbody>\n",
       "\t<tr><th scope=row>pF</th><td>1.00e+00</td><td>3.52e-16</td></tr>\n",
       "\t<tr><th scope=row>pH</th><td>3.52e-16</td><td>1.00e+00</td></tr>\n",
       "</tbody>\n",
       "</table>\n"
      ],
      "text/latex": [
       "\\begin{tabular}{r|ll}\n",
       "  & pF & pH\\\\\n",
       "\\hline\n",
       "\tpF & 1.00e+00 & 3.52e-16\\\\\n",
       "\tpH & 3.52e-16 & 1.00e+00\\\\\n",
       "\\end{tabular}\n"
      ],
      "text/markdown": [
       "\n",
       "| <!--/--> | pF | pH | \n",
       "|---|---|\n",
       "| pF | 1.00e+00 | 3.52e-16 | \n",
       "| pH | 3.52e-16 | 1.00e+00 | \n",
       "\n",
       "\n"
      ],
      "text/plain": [
       "   pF       pH      \n",
       "pF 1.00e+00 3.52e-16\n",
       "pH 3.52e-16 1.00e+00"
      ]
     },
     "metadata": {},
     "output_type": "display_data"
    },
    {
     "data": {
      "image/png": "[encoded data removed]",
      "text/plain": [
       "Plot with title \"Historical variance decomposition\""
      ]
     },
     "metadata": {},
     "output_type": "display_data"
    }
   ],
   "source": [
    "### Historical decomposition   ###\n",
    "\n",
    "i      =2         # which variable [CZ or EA]\n",
    "\n",
    "# a. Structural shocks\n",
    "e <- residuals(VARE)\n",
    "B <- SVARE$B\n",
    "u <- t(solve(B)%*%t(e))\n",
    "T <- dim(u)[1]\n",
    " cor(u) \n",
    "\n",
    "# b. IRFs\n",
    "SVMA <- Phi(SVARE, nstep=T)\n",
    "SIRF  = t(SVMA[i,,])    # IRF for variable i\n",
    "\n",
    "# c. Historical decompositoion\n",
    "HistDec             <- matrix(NA,T,2)\n",
    "colnames(HistDec)   <- colnames(u)\n",
    "\n",
    "for(t in 1:T){\n",
    "  junk1 <- as.matrix(u[1:t,])\n",
    "  junk2 <- as.matrix(SIRF[t:1,])\n",
    "  HistDec[t,] <- colSums(junk1*junk2)\n",
    "}\n",
    "\n",
    "# the impact of initial conditions\n",
    "InitCond <- tail(z[,i],T) - colSums(t(HistDec)) \n",
    "  mu       <- as.numeric(tail(InitCond,1))\n",
    "InitCond <- InitCond - mu\n",
    "HistDec  <- zoo(HistDec,order.by = index(InitCond))\n",
    "HistDec  <- merge(HistDec, InitCond)\n",
    "\n",
    "\n",
    "junk <- barplot(t(HistDec),main=\"Historical variance decomposition\", legend=colnames(HistDec), xlab=\"\", col = c(\"red\",\"green\", \"grey\"))\n",
    "lines(x=junk, y=tail(z[,i],T)-mu, lwd=5)\n",
    "\n",
    "# 1999 - 2008 shocks in Czech Republic were responsible for the most of fluctuations of the inflations rate in CZ\n",
    "\n",
    "# Since economic crisis 2008 more and more of the fluctiuations were related to shocks in Euro Zone."
   ]
  },
  {
   "cell_type": "code",
   "execution_count": 25,
   "metadata": {},
   "outputs": [
    {
     "name": "stdout",
     "output_type": "stream",
     "text": [
      "\n",
      "\tLjung-Box test\n",
      "\n",
      "data:  Residuals from ARIMA(2,0,1) with non-zero mean\n",
      "Q* = 20, df = 6, p-value = 0.02\n",
      "\n",
      "Model df: 4.   Total lags used: 10\n",
      "\n"
     ]
    },
    {
     "data": {
      "text/plain": [
       "\n",
       "\tJarque Bera Test\n",
       "\n",
       "data:  arma0$residuals\n",
       "X-squared = 200, df = 2, p-value <2e-16\n"
      ]
     },
     "metadata": {},
     "output_type": "display_data"
    },
    {
     "data": {
      "image/png": "[encoded data removed]",
      "text/plain": [
       "plot without title"
      ]
     },
     "metadata": {},
     "output_type": "display_data"
    }
   ],
   "source": [
    "checkresiduals(arma0,test=FALSE) # AC in residuals claims forecast method can be improved\n",
    "\n",
    "checkresiduals(arma0,plot=FALSE) # Small AC has though little impact even if significant\n",
    "\n",
    "jarque.bera.test(arma0$residuals) # Non-gaussian residuals can be handled using bootstrap forecast intervals"
   ]
  },
  {
   "cell_type": "code",
   "execution_count": 26,
   "metadata": {
    "scrolled": true
   },
   "outputs": [
    {
     "data": {
      "image/png": "[encoded data removed]",
      "text/plain": [
       "Plot with title \"Forecasts from ARIMA(2,0,1) with non-zero mean\""
      ]
     },
     "metadata": {},
     "output_type": "display_data"
    }
   ],
   "source": [
    "fcst <- forecast(arma0, h=36)\n",
    "\n",
    "plot(fcst)"
   ]
  },
  {
   "cell_type": "code",
   "execution_count": 27,
   "metadata": {},
   "outputs": [
    {
     "data": {
      "image/png": "[encoded data removed]",
      "text/plain": [
       "Plot with title \"Fanchart for variable pH\""
      ]
     },
     "metadata": {},
     "output_type": "display_data"
    }
   ],
   "source": [
    "### Forecast ###\n",
    "\n",
    "H   <- 36\n",
    "T =dim(z)[1]\n",
    "fct <- predict(VARE, n.ahead=H)\n",
    "\n",
    "fanchart(fct, nc=1, xlim=c(T-60,T+H))\n",
    "#"
   ]
  },
  {
   "cell_type": "code",
   "execution_count": 28,
   "metadata": {},
   "outputs": [
    {
     "name": "stderr",
     "output_type": "stream",
     "text": [
      "Loading required package: lubridate\n",
      "\n",
      "Attaching package: 'lubridate'\n",
      "\n",
      "The following object is masked from 'package:base':\n",
      "\n",
      "    date\n",
      "\n"
     ]
    },
    {
     "data": {
      "text/html": [
       "<table>\n",
       "<thead><tr><th></th><th scope=col>fARMA</th><th scope=col>fVAR</th><th scope=col>fEC</th></tr></thead>\n",
       "<tbody>\n",
       "\t<tr><th scope=row>2019-12-01</th><td>2.66</td><td>2.45</td><td> NA </td></tr>\n",
       "\t<tr><th scope=row>2020-12-01</th><td>2.23</td><td>2.31</td><td>2.4 </td></tr>\n",
       "\t<tr><th scope=row>2021-12-01</th><td>1.88</td><td>2.24</td><td>2.0 </td></tr>\n",
       "\t<tr><th scope=row>2022-03-01</th><td>1.93</td><td>2.22</td><td> NA </td></tr>\n",
       "</tbody>\n",
       "</table>\n"
      ],
      "text/latex": [
       "\\begin{tabular}{r|lll}\n",
       "  & fARMA & fVAR & fEC\\\\\n",
       "\\hline\n",
       "\t2019-12-01 & 2.66 & 2.45 &  NA \\\\\n",
       "\t2020-12-01 & 2.23 & 2.31 & 2.4 \\\\\n",
       "\t2021-12-01 & 1.88 & 2.24 & 2.0 \\\\\n",
       "\t2022-03-01 & 1.93 & 2.22 &  NA \\\\\n",
       "\\end{tabular}\n"
      ],
      "text/markdown": [
       "\n",
       "| <!--/--> | fARMA | fVAR | fEC | \n",
       "|---|---|---|---|\n",
       "| 2019-12-01 | 2.66 | 2.45 |  NA  | \n",
       "| 2020-12-01 | 2.23 | 2.31 | 2.4  | \n",
       "| 2021-12-01 | 1.88 | 2.24 | 2.0  | \n",
       "| 2022-03-01 | 1.93 | 2.22 |  NA  | \n",
       "\n",
       "\n"
      ],
      "text/plain": [
       "           fARMA fVAR fEC\n",
       "2019-12-01 2.66  2.45  NA\n",
       "2020-12-01 2.23  2.31 2.4\n",
       "2021-12-01 1.88  2.24 2.0\n",
       "2022-03-01 1.93  2.22  NA"
      ]
     },
     "metadata": {},
     "output_type": "display_data"
    }
   ],
   "source": [
    "# Let's forecast annualized inflation rate from ARMA (2,1), VAR(2) against European Commission\n",
    "\n",
    "## European Commission Forecasts available here:\n",
    "# https://ec.europa.eu/info/business-economy-euro/economic-performance-and-forecasts/economic-performance-country/czechia/economic-forecast-czechia_en\n",
    "\n",
    "\n",
    "require(lubridate)\n",
    "\n",
    "datesf <- last(index(inflation))+months(1:36)\n",
    "\n",
    "temp     <- zoo(fcst$mean,datesf) # ARMA forecasts\n",
    "temp1 <- zoo(fct$fcst$pH[,1], datesf) # VAR forecasts\n",
    "\n",
    "#Is mean appropriate for annualizing?\n",
    "\n",
    "fARMA <- apply.yearly(temp,mean) #ARMA annualized forecasts\n",
    "fVAR <- apply.yearly(temp1,mean) #VAR annualized forecasts\n",
    "fEC <- c(NA, 2.4, 2.0, NA) # European Commission annualized forecasts\n",
    "\n",
    "as.data.frame(cbind(fARMA,fVAR, fEC))"
   ]
  }
 ],
 "metadata": {
  "kernelspec": {
   "display_name": "R",
   "language": "R",
   "name": "ir"
  },
  "language_info": {
   "codemirror_mode": "r",
   "file_extension": ".r",
   "mimetype": "text/x-r-source",
   "name": "R",
   "pygments_lexer": "r",
   "version": "3.5.1"
  }
 },
 "nbformat": 4,
 "nbformat_minor": 2
}
